{
 "cells": [
  {
   "cell_type": "markdown",
   "id": "f4023c60",
   "metadata": {
    "ExecuteTime": {
     "end_time": "2021-07-20T18:39:08.209341Z",
     "start_time": "2021-07-20T18:39:08.144854Z"
    },
    "id": "f4023c60"
   },
   "source": [
    "# **IMPORTS**"
   ]
  },
  {
   "cell_type": "code",
   "execution_count": 13,
   "id": "ZKYufDe8C8gY",
   "metadata": {
    "ExecuteTime": {
     "end_time": "2021-09-17T18:35:13.016644Z",
     "start_time": "2021-09-17T18:35:12.953441Z"
    },
    "executionInfo": {
     "elapsed": 1596,
     "status": "ok",
     "timestamp": 1631897819416,
     "user": {
      "displayName": "Victor Leite",
      "photoUrl": "https://lh3.googleusercontent.com/a-/AOh14GjZrNAG8oiephhw0debLzorK9oI3UDtXn-CtAIGxg=s64",
      "userId": "16951619058254256460"
     },
     "user_tz": 180
    },
    "id": "ZKYufDe8C8gY"
   },
   "outputs": [],
   "source": [
    "# data manipulation\n",
    "import math\n",
    "import inflection\n",
    "import pandas as pd\n",
    "import numpy  as np \n",
    "from datetime              import date, datetime, timedelta"
   ]
  },
  {
   "cell_type": "markdown",
   "id": "4a695213",
   "metadata": {
    "id": "4a695213"
   },
   "source": [
    "## **Helper Functions**"
   ]
  },
  {
   "cell_type": "code",
   "execution_count": null,
   "id": "u3V3U0_I-HRg",
   "metadata": {
    "ExecuteTime": {
     "end_time": "2021-09-17T18:12:14.476342Z",
     "start_time": "2021-09-17T18:12:14.432340Z"
    },
    "executionInfo": {
     "elapsed": 16,
     "status": "ok",
     "timestamp": 1631897819417,
     "user": {
      "displayName": "Victor Leite",
      "photoUrl": "https://lh3.googleusercontent.com/a-/AOh14GjZrNAG8oiephhw0debLzorK9oI3UDtXn-CtAIGxg=s64",
      "userId": "16951619058254256460"
     },
     "user_tz": 180
    },
    "id": "u3V3U0_I-HRg"
   },
   "outputs": [],
   "source": []
  },
  {
   "cell_type": "markdown",
   "id": "3bf00424",
   "metadata": {
    "ExecuteTime": {
     "end_time": "2021-07-20T18:46:56.890375Z",
     "start_time": "2021-07-20T18:46:56.885378Z"
    },
    "id": "3bf00424"
   },
   "source": [
    "## **Loading data**"
   ]
  },
  {
   "cell_type": "code",
   "execution_count": 14,
   "id": "xn81QLu-DKsF",
   "metadata": {
    "ExecuteTime": {
     "end_time": "2021-09-17T18:35:20.409883Z",
     "start_time": "2021-09-17T18:35:13.712557Z"
    },
    "executionInfo": {
     "elapsed": 2800,
     "status": "ok",
     "timestamp": 1631897822204,
     "user": {
      "displayName": "Victor Leite",
      "photoUrl": "https://lh3.googleusercontent.com/a-/AOh14GjZrNAG8oiephhw0debLzorK9oI3UDtXn-CtAIGxg=s64",
      "userId": "16951619058254256460"
     },
     "user_tz": 180
    },
    "id": "xn81QLu-DKsF"
   },
   "outputs": [],
   "source": [
    "df_sales_raw = pd.read_csv('C:/Users/victo/repos/Sales_Prediction/data/train.csv', low_memory=False)\n",
    "df_store_raw = pd.read_csv('C:/Users/victo/repos/Sales_Prediction/data/store.csv', low_memory=False)\n",
    "\n",
    "# merge to define the main dataset\n",
    "df_raw = pd.merge(df_sales_raw, df_store_raw, how='left', on='Store')"
   ]
  },
  {
   "cell_type": "markdown",
   "id": "b7ea26b1",
   "metadata": {
    "lang": "en"
   },
   "source": [
    "# **DATA DESCRIPTION**"
   ]
  },
  {
   "cell_type": "markdown",
   "id": "0be171e8",
   "metadata": {
    "lang": "en"
   },
   "source": [
    "In this step we will analyze, clean and pre-process the data for our future analysis."
   ]
  },
  {
   "cell_type": "code",
   "execution_count": 15,
   "id": "s03mkkBQRF37",
   "metadata": {
    "ExecuteTime": {
     "end_time": "2021-09-17T18:35:28.330853Z",
     "start_time": "2021-09-17T18:35:20.752002Z"
    },
    "executionInfo": {
     "elapsed": 38,
     "status": "ok",
     "timestamp": 1631897822207,
     "user": {
      "displayName": "Victor Leite",
      "photoUrl": "https://lh3.googleusercontent.com/a-/AOh14GjZrNAG8oiephhw0debLzorK9oI3UDtXn-CtAIGxg=s64",
      "userId": "16951619058254256460"
     },
     "user_tz": 180
    },
    "id": "s03mkkBQRF37"
   },
   "outputs": [],
   "source": [
    "# set df1 as the main dataset\n",
    "df1 = df_raw.copy()"
   ]
  },
  {
   "cell_type": "markdown",
   "id": "a1863ace",
   "metadata": {
    "id": "a1863ace"
   },
   "source": [
    "## **Rename Columns**"
   ]
  },
  {
   "cell_type": "code",
   "execution_count": 16,
   "id": "jnRjvfCHJjwT",
   "metadata": {
    "ExecuteTime": {
     "end_time": "2021-09-17T18:35:35.387915Z",
     "start_time": "2021-09-17T18:35:35.293555Z"
    },
    "executionInfo": {
     "elapsed": 34,
     "status": "ok",
     "timestamp": 1631897822209,
     "user": {
      "displayName": "Victor Leite",
      "photoUrl": "https://lh3.googleusercontent.com/a-/AOh14GjZrNAG8oiephhw0debLzorK9oI3UDtXn-CtAIGxg=s64",
      "userId": "16951619058254256460"
     },
     "user_tz": 180
    },
    "id": "jnRjvfCHJjwT"
   },
   "outputs": [],
   "source": [
    "# CamelCase original columns format \n",
    "cols_old = df1.columns\n",
    "\n",
    "# rename columns to snake_case format\n",
    "df1.columns = list(map(lambda x: inflection.underscore(x), cols_old))"
   ]
  },
  {
   "cell_type": "markdown",
   "id": "d6fea4e2",
   "metadata": {
    "id": "d6fea4e2"
   },
   "source": [
    "## **Data Dimensions**"
   ]
  },
  {
   "cell_type": "code",
   "execution_count": 17,
   "id": "OMJ8DuDkO5Yh",
   "metadata": {
    "ExecuteTime": {
     "end_time": "2021-09-17T18:35:36.072841Z",
     "start_time": "2021-09-17T18:35:35.966156Z"
    },
    "colab": {
     "base_uri": "https://localhost:8080/"
    },
    "executionInfo": {
     "elapsed": 33,
     "status": "ok",
     "timestamp": 1631897822210,
     "user": {
      "displayName": "Victor Leite",
      "photoUrl": "https://lh3.googleusercontent.com/a-/AOh14GjZrNAG8oiephhw0debLzorK9oI3UDtXn-CtAIGxg=s64",
      "userId": "16951619058254256460"
     },
     "user_tz": 180
    },
    "id": "OMJ8DuDkO5Yh",
    "outputId": "45b61d66-5a78-4671-cc4a-fe27745389fc"
   },
   "outputs": [
    {
     "name": "stdout",
     "output_type": "stream",
     "text": [
      "Number of Rows: 1017209\n",
      "Number of Cols: 18\n"
     ]
    }
   ],
   "source": [
    "print(f'Number of Rows: {df1.shape[0]}')\n",
    "print(f'Number of Cols: {df1.shape[1]}')"
   ]
  },
  {
   "cell_type": "markdown",
   "id": "1e52e50f",
   "metadata": {
    "lang": "en"
   },
   "source": [
    "Analyzing the dimensions of the data, it will be possible to carry out the analysis by pandas and without the need for a server."
   ]
  },
  {
   "cell_type": "markdown",
   "id": "4b25a66b",
   "metadata": {
    "id": "4b25a66b"
   },
   "source": [
    "## **Data Types**"
   ]
  },
  {
   "cell_type": "code",
   "execution_count": 18,
   "id": "qsIKnf2qQ9rN",
   "metadata": {
    "ExecuteTime": {
     "end_time": "2021-09-17T18:35:38.416539Z",
     "start_time": "2021-09-17T18:35:36.410412Z"
    },
    "executionInfo": {
     "elapsed": 719,
     "status": "ok",
     "timestamp": 1631897822914,
     "user": {
      "displayName": "Victor Leite",
      "photoUrl": "https://lh3.googleusercontent.com/a-/AOh14GjZrNAG8oiephhw0debLzorK9oI3UDtXn-CtAIGxg=s64",
      "userId": "16951619058254256460"
     },
     "user_tz": 180
    },
    "id": "qsIKnf2qQ9rN"
   },
   "outputs": [],
   "source": [
    "# Change columns 'date' to datetime format\n",
    "df1['date'] = pd.to_datetime(df1['date'])"
   ]
  },
  {
   "cell_type": "markdown",
   "id": "ed52c7d6",
   "metadata": {
    "id": "ed52c7d6"
   },
   "source": [
    "## **Check NA**"
   ]
  },
  {
   "cell_type": "code",
   "execution_count": 19,
   "id": "bHhZ1CSmVi2x",
   "metadata": {
    "ExecuteTime": {
     "end_time": "2021-09-17T18:35:39.402030Z",
     "start_time": "2021-09-17T18:35:38.432163Z"
    },
    "colab": {
     "base_uri": "https://localhost:8080/"
    },
    "executionInfo": {
     "elapsed": 52,
     "status": "ok",
     "timestamp": 1631897822915,
     "user": {
      "displayName": "Victor Leite",
      "photoUrl": "https://lh3.googleusercontent.com/a-/AOh14GjZrNAG8oiephhw0debLzorK9oI3UDtXn-CtAIGxg=s64",
      "userId": "16951619058254256460"
     },
     "user_tz": 180
    },
    "id": "bHhZ1CSmVi2x",
    "outputId": "4782363c-a8d4-4df8-81b5-f637240bbb6a"
   },
   "outputs": [
    {
     "name": "stdout",
     "output_type": "stream",
     "text": [
      "store                                0\n",
      "day_of_week                          0\n",
      "date                                 0\n",
      "sales                                0\n",
      "customers                            0\n",
      "open                                 0\n",
      "promo                                0\n",
      "state_holiday                        0\n",
      "school_holiday                       0\n",
      "store_type                           0\n",
      "assortment                           0\n",
      "competition_distance              2642\n",
      "competition_open_since_month    323348\n",
      "competition_open_since_year     323348\n",
      "promo2                               0\n",
      "promo2_since_week               508031\n",
      "promo2_since_year               508031\n",
      "promo_interval                  508031\n",
      "dtype: int64\n"
     ]
    }
   ],
   "source": [
    "# checking if there are NAs in the dataset\n",
    "print(df1.isna().sum())"
   ]
  },
  {
   "cell_type": "code",
   "execution_count": 20,
   "id": "c0377558",
   "metadata": {
    "ExecuteTime": {
     "end_time": "2021-09-17T18:35:40.190756Z",
     "start_time": "2021-09-17T18:35:39.428026Z"
    },
    "lang": "en"
   },
   "outputs": [
    {
     "name": "stdout",
     "output_type": "stream",
     "text": [
      "NAs by Store:\n",
      "stores that have no competition_distance: [291, 622, 879]\n",
      "354 stores have no competition_open_since_month & competition_open_since_year\n",
      "544 stores did not adhere to promo2 (NAs in columns: promo2_since_week & promo2_since_year & promo_interval )\n"
     ]
    }
   ],
   "source": [
    "print('NAs by Store:')\n",
    "\n",
    "# checking which stores do not have a distance to the nearest competitor\n",
    "competition_distance_null = list(df_store_raw[df_store_raw['CompetitionDistance'].isnull()]['Store'])\n",
    "print(f'stores that have no competition_distance: {competition_distance_null}')\n",
    "\n",
    "# checking how many stores do not have the competition start date\n",
    "competition_date_null = len(df1[(df1['competition_open_since_month'].isnull()) & (df1['competition_open_since_year'].isnull())]['store'].unique())\n",
    "print(f'{competition_date_null} stores have no competition_open_since_month & competition_open_since_year')\n",
    "\n",
    "# verifying how many stores did not join the extended promotion\n",
    "stores_without_promo2 = len(df1[df1['promo2'] == 0]['store'].unique())\n",
    "print(f'{stores_without_promo2} stores did not adhere to promo2 (NAs in columns: promo2_since_week & promo2_since_year & promo_interval )')"
   ]
  },
  {
   "cell_type": "markdown",
   "id": "afdd16b6",
   "metadata": {
    "id": "afdd16b6"
   },
   "source": [
    "## **Fillout NA**"
   ]
  },
  {
   "cell_type": "markdown",
   "id": "29a82993",
   "metadata": {
    "lang": "en"
   },
   "source": [
    "We can replace the NAs with data obtained through the analysis of the feature's behavior made by ML algorithms, however, for this project we will fill the NAs based on the **assumptions made in view of the understanding of the business**."
   ]
  },
  {
   "cell_type": "code",
   "execution_count": 21,
   "id": "qCbuQoEwVw8J",
   "metadata": {
    "ExecuteTime": {
     "end_time": "2021-09-17T18:35:42.621332Z",
     "start_time": "2021-09-17T18:35:41.107001Z"
    },
    "executionInfo": {
     "elapsed": 877,
     "status": "ok",
     "timestamp": 1631897823785,
     "user": {
      "displayName": "Victor Leite",
      "photoUrl": "https://lh3.googleusercontent.com/a-/AOh14GjZrNAG8oiephhw0debLzorK9oI3UDtXn-CtAIGxg=s64",
      "userId": "16951619058254256460"
     },
     "user_tz": 180
    },
    "id": "qCbuQoEwVw8J"
   },
   "outputs": [],
   "source": [
    "# competition_distance (03 stores with NA values)\n",
    "df1['competition_distance'] = df1['competition_distance'].apply(lambda x: 100000 if pd.isna(x) else x)\n",
    "\n",
    "# competition_open_since_month & competition_open_since_year (354 stores with NA values)\n",
    "df1['competition_open_since_month'].fillna(1, inplace=True) \n",
    "df1['competition_open_since_year'].fillna(2013, inplace=True) \n",
    "\n",
    "# promo2_since_week & promo2_since_year (544 stores with NA values)\n",
    "df1['promo2_since_week'].fillna(0, inplace=True) \n",
    "df1['promo2_since_year'].fillna(0, inplace=True)\n",
    "\n",
    "# promo_interval (544 stores with NA values)\n",
    "df1['promo_interval'].fillna(0, inplace=True) "
   ]
  },
  {
   "cell_type": "markdown",
   "id": "1r2QoEEbB8kE",
   "metadata": {
    "id": "1r2QoEEbB8kE"
   },
   "source": [
    "**competition_distance:** \n",
    "* **Description**: distance in meters to the nearest competidor store\n",
    "* **Assumption**: it's NA because there is no competidor close or it is too far away.\n",
    "* **Realized**: a much greater distance than the maximum was placed, meaning there is no competition\n",
    "\n",
    "**competition_open_since_month & competition_open_since_year**\n",
    "* **Description**: approximate year and month of the time the nearest competitor was opened\n",
    "* **Assumption**: it's NA because there is no competidor close, or existis, but we don't know when it opened (if there is a close competitor, there is a competition start date).\n",
    "* **Realized**: the month/year of the first sale date of each store was placed inside the column row\n",
    "\n",
    "**promo2_since_week & promo2_since_year**\n",
    "* **Description**: year and calendar week when the store started participating in Promo2\n",
    "* **Assumption**: it's NA because the store decided not to participate in the Promo2, so there is no start date\n",
    "* **Realized**: a 0 was placed on the row\n",
    "\n",
    "**promo_interval**\n",
    "* **Description**: consecutive intervals Promo2 is started\n",
    "* **Assumption**: it's NA because the store decided not to participate in the Promo2, so there is no interval.\n",
    "* **Realized**: a 0 was placed on the row"
   ]
  },
  {
   "cell_type": "markdown",
   "id": "e7b4d115",
   "metadata": {
    "id": "e7b4d115"
   },
   "source": [
    "## **Change Types**"
   ]
  },
  {
   "cell_type": "code",
   "execution_count": 22,
   "id": "G4UWp7u1XRXL",
   "metadata": {
    "ExecuteTime": {
     "end_time": "2021-09-17T18:35:43.003637Z",
     "start_time": "2021-09-17T18:35:42.846436Z"
    },
    "executionInfo": {
     "elapsed": 9,
     "status": "ok",
     "timestamp": 1631897823787,
     "user": {
      "displayName": "Victor Leite",
      "photoUrl": "https://lh3.googleusercontent.com/a-/AOh14GjZrNAG8oiephhw0debLzorK9oI3UDtXn-CtAIGxg=s64",
      "userId": "16951619058254256460"
     },
     "user_tz": 180
    },
    "id": "G4UWp7u1XRXL"
   },
   "outputs": [],
   "source": [
    "# change columns to int format\n",
    "df1['competition_open_since_month'] = df1['competition_open_since_month'].astype('int64') \n",
    "df1['competition_open_since_year'] = df1['competition_open_since_year'].astype('int64') \n",
    "df1['promo2_since_week'] = df1['promo2_since_week'].astype('int64') \n",
    "df1['promo2_since_year'] = df1['promo2_since_year'].astype('int64') "
   ]
  },
  {
   "cell_type": "markdown",
   "id": "bc767320",
   "metadata": {
    "lang": "en"
   },
   "source": [
    "It was identified that the columns **competition_open_since_month, competition_open_since_year, promo2_since_week and promo2_since_year** were not in the correct format, so a change was made to the correct format **int**."
   ]
  },
  {
   "cell_type": "markdown",
   "id": "e10abf54",
   "metadata": {
    "id": "e10abf54"
   },
   "source": [
    "## **Descriptive Statistical**"
   ]
  },
  {
   "cell_type": "markdown",
   "id": "0bf9e5ab",
   "metadata": {
    "lang": "en"
   },
   "source": [
    "We will perform descriptive statistics on the data to gain initial business knowledge and identify errors."
   ]
  },
  {
   "cell_type": "code",
   "execution_count": 23,
   "id": "c2e80c2e",
   "metadata": {
    "ExecuteTime": {
     "end_time": "2021-09-17T18:35:43.910258Z",
     "start_time": "2021-09-17T18:35:43.247794Z"
    },
    "lang": "en"
   },
   "outputs": [],
   "source": [
    "# separate data between numeric and categorical\n",
    "num_attributes = df1.select_dtypes(include=['int64', 'float64'])\n",
    "cat_attributes = df1.select_dtypes(exclude=['int64', 'float64', 'datetime64[ns]'])"
   ]
  },
  {
   "cell_type": "markdown",
   "id": "cacdd306",
   "metadata": {
    "ExecuteTime": {
     "end_time": "2021-07-22T17:44:53.047151Z",
     "start_time": "2021-07-22T17:44:53.028146Z"
    },
    "id": "cacdd306"
   },
   "source": [
    "### **Numerical Attributes**"
   ]
  },
  {
   "cell_type": "code",
   "execution_count": 24,
   "id": "nDx6Xs35aj6s",
   "metadata": {
    "ExecuteTime": {
     "end_time": "2021-09-17T18:36:02.146788Z",
     "start_time": "2021-09-17T18:35:44.222077Z"
    },
    "colab": {
     "base_uri": "https://localhost:8080/",
     "height": 477
    },
    "executionInfo": {
     "elapsed": 1028,
     "status": "ok",
     "timestamp": 1631897824808,
     "user": {
      "displayName": "Victor Leite",
      "photoUrl": "https://lh3.googleusercontent.com/a-/AOh14GjZrNAG8oiephhw0debLzorK9oI3UDtXn-CtAIGxg=s64",
      "userId": "16951619058254256460"
     },
     "user_tz": 180
    },
    "id": "nDx6Xs35aj6s",
    "outputId": "bb8b803e-0da2-4f7e-ef7e-e620f8a51ab4"
   },
   "outputs": [
    {
     "data": {
      "text/html": [
       "<div>\n",
       "<style scoped>\n",
       "    .dataframe tbody tr th:only-of-type {\n",
       "        vertical-align: middle;\n",
       "    }\n",
       "\n",
       "    .dataframe tbody tr th {\n",
       "        vertical-align: top;\n",
       "    }\n",
       "\n",
       "    .dataframe thead th {\n",
       "        text-align: right;\n",
       "    }\n",
       "</style>\n",
       "<table border=\"1\" class=\"dataframe\">\n",
       "  <thead>\n",
       "    <tr style=\"text-align: right;\">\n",
       "      <th></th>\n",
       "      <th>attributes</th>\n",
       "      <th>min</th>\n",
       "      <th>max</th>\n",
       "      <th>range</th>\n",
       "      <th>mean</th>\n",
       "      <th>median</th>\n",
       "      <th>std</th>\n",
       "      <th>skew</th>\n",
       "      <th>kurtosis</th>\n",
       "    </tr>\n",
       "  </thead>\n",
       "  <tbody>\n",
       "    <tr>\n",
       "      <th>0</th>\n",
       "      <td>store</td>\n",
       "      <td>1.0</td>\n",
       "      <td>1115.0</td>\n",
       "      <td>1114.0</td>\n",
       "      <td>558.429727</td>\n",
       "      <td>558.0</td>\n",
       "      <td>321.908651</td>\n",
       "      <td>-0.000955</td>\n",
       "      <td>-1.200524</td>\n",
       "    </tr>\n",
       "    <tr>\n",
       "      <th>1</th>\n",
       "      <td>day_of_week</td>\n",
       "      <td>1.0</td>\n",
       "      <td>7.0</td>\n",
       "      <td>6.0</td>\n",
       "      <td>3.998341</td>\n",
       "      <td>4.0</td>\n",
       "      <td>1.997391</td>\n",
       "      <td>0.001593</td>\n",
       "      <td>-1.246873</td>\n",
       "    </tr>\n",
       "    <tr>\n",
       "      <th>2</th>\n",
       "      <td>sales</td>\n",
       "      <td>0.0</td>\n",
       "      <td>41551.0</td>\n",
       "      <td>41551.0</td>\n",
       "      <td>5773.818972</td>\n",
       "      <td>5744.0</td>\n",
       "      <td>3849.926175</td>\n",
       "      <td>0.641460</td>\n",
       "      <td>1.778375</td>\n",
       "    </tr>\n",
       "    <tr>\n",
       "      <th>3</th>\n",
       "      <td>customers</td>\n",
       "      <td>0.0</td>\n",
       "      <td>7388.0</td>\n",
       "      <td>7388.0</td>\n",
       "      <td>633.145946</td>\n",
       "      <td>609.0</td>\n",
       "      <td>464.411734</td>\n",
       "      <td>1.598650</td>\n",
       "      <td>7.091773</td>\n",
       "    </tr>\n",
       "    <tr>\n",
       "      <th>4</th>\n",
       "      <td>open</td>\n",
       "      <td>0.0</td>\n",
       "      <td>1.0</td>\n",
       "      <td>1.0</td>\n",
       "      <td>0.830107</td>\n",
       "      <td>1.0</td>\n",
       "      <td>0.375539</td>\n",
       "      <td>-1.758045</td>\n",
       "      <td>1.090723</td>\n",
       "    </tr>\n",
       "    <tr>\n",
       "      <th>5</th>\n",
       "      <td>promo</td>\n",
       "      <td>0.0</td>\n",
       "      <td>1.0</td>\n",
       "      <td>1.0</td>\n",
       "      <td>0.381515</td>\n",
       "      <td>0.0</td>\n",
       "      <td>0.485759</td>\n",
       "      <td>0.487838</td>\n",
       "      <td>-1.762018</td>\n",
       "    </tr>\n",
       "    <tr>\n",
       "      <th>6</th>\n",
       "      <td>school_holiday</td>\n",
       "      <td>0.0</td>\n",
       "      <td>1.0</td>\n",
       "      <td>1.0</td>\n",
       "      <td>0.178647</td>\n",
       "      <td>0.0</td>\n",
       "      <td>0.383056</td>\n",
       "      <td>1.677842</td>\n",
       "      <td>0.815154</td>\n",
       "    </tr>\n",
       "    <tr>\n",
       "      <th>7</th>\n",
       "      <td>competition_distance</td>\n",
       "      <td>20.0</td>\n",
       "      <td>100000.0</td>\n",
       "      <td>99980.0</td>\n",
       "      <td>5675.712376</td>\n",
       "      <td>2330.0</td>\n",
       "      <td>9085.163758</td>\n",
       "      <td>4.637208</td>\n",
       "      <td>35.287543</td>\n",
       "    </tr>\n",
       "    <tr>\n",
       "      <th>8</th>\n",
       "      <td>competition_open_since_month</td>\n",
       "      <td>1.0</td>\n",
       "      <td>12.0</td>\n",
       "      <td>11.0</td>\n",
       "      <td>5.244756</td>\n",
       "      <td>4.0</td>\n",
       "      <td>3.928522</td>\n",
       "      <td>0.311511</td>\n",
       "      <td>-1.422995</td>\n",
       "    </tr>\n",
       "    <tr>\n",
       "      <th>9</th>\n",
       "      <td>competition_open_since_year</td>\n",
       "      <td>1900.0</td>\n",
       "      <td>2015.0</td>\n",
       "      <td>115.0</td>\n",
       "      <td>2010.060208</td>\n",
       "      <td>2012.0</td>\n",
       "      <td>5.340757</td>\n",
       "      <td>-7.884662</td>\n",
       "      <td>139.910688</td>\n",
       "    </tr>\n",
       "    <tr>\n",
       "      <th>10</th>\n",
       "      <td>promo2</td>\n",
       "      <td>0.0</td>\n",
       "      <td>1.0</td>\n",
       "      <td>1.0</td>\n",
       "      <td>0.500564</td>\n",
       "      <td>1.0</td>\n",
       "      <td>0.500000</td>\n",
       "      <td>-0.002255</td>\n",
       "      <td>-1.999999</td>\n",
       "    </tr>\n",
       "    <tr>\n",
       "      <th>11</th>\n",
       "      <td>promo2_since_week</td>\n",
       "      <td>0.0</td>\n",
       "      <td>50.0</td>\n",
       "      <td>50.0</td>\n",
       "      <td>11.647665</td>\n",
       "      <td>1.0</td>\n",
       "      <td>15.323928</td>\n",
       "      <td>1.003390</td>\n",
       "      <td>-0.498322</td>\n",
       "    </tr>\n",
       "    <tr>\n",
       "      <th>12</th>\n",
       "      <td>promo2_since_year</td>\n",
       "      <td>0.0</td>\n",
       "      <td>2015.0</td>\n",
       "      <td>2015.0</td>\n",
       "      <td>1007.010608</td>\n",
       "      <td>2009.0</td>\n",
       "      <td>1005.876930</td>\n",
       "      <td>-0.002251</td>\n",
       "      <td>-1.999993</td>\n",
       "    </tr>\n",
       "  </tbody>\n",
       "</table>\n",
       "</div>"
      ],
      "text/plain": [
       "                      attributes     min       max    range         mean  \\\n",
       "0                          store     1.0    1115.0   1114.0   558.429727   \n",
       "1                    day_of_week     1.0       7.0      6.0     3.998341   \n",
       "2                          sales     0.0   41551.0  41551.0  5773.818972   \n",
       "3                      customers     0.0    7388.0   7388.0   633.145946   \n",
       "4                           open     0.0       1.0      1.0     0.830107   \n",
       "5                          promo     0.0       1.0      1.0     0.381515   \n",
       "6                 school_holiday     0.0       1.0      1.0     0.178647   \n",
       "7           competition_distance    20.0  100000.0  99980.0  5675.712376   \n",
       "8   competition_open_since_month     1.0      12.0     11.0     5.244756   \n",
       "9    competition_open_since_year  1900.0    2015.0    115.0  2010.060208   \n",
       "10                        promo2     0.0       1.0      1.0     0.500564   \n",
       "11             promo2_since_week     0.0      50.0     50.0    11.647665   \n",
       "12             promo2_since_year     0.0    2015.0   2015.0  1007.010608   \n",
       "\n",
       "    median          std      skew    kurtosis  \n",
       "0    558.0   321.908651 -0.000955   -1.200524  \n",
       "1      4.0     1.997391  0.001593   -1.246873  \n",
       "2   5744.0  3849.926175  0.641460    1.778375  \n",
       "3    609.0   464.411734  1.598650    7.091773  \n",
       "4      1.0     0.375539 -1.758045    1.090723  \n",
       "5      0.0     0.485759  0.487838   -1.762018  \n",
       "6      0.0     0.383056  1.677842    0.815154  \n",
       "7   2330.0  9085.163758  4.637208   35.287543  \n",
       "8      4.0     3.928522  0.311511   -1.422995  \n",
       "9   2012.0     5.340757 -7.884662  139.910688  \n",
       "10     1.0     0.500000 -0.002255   -1.999999  \n",
       "11     1.0    15.323928  1.003390   -0.498322  \n",
       "12  2009.0  1005.876930 -0.002251   -1.999993  "
      ]
     },
     "execution_count": 24,
     "metadata": {},
     "output_type": "execute_result"
    }
   ],
   "source": [
    "# central tendency metrics - mean, median\n",
    "mean   = num_attributes.mean()\n",
    "median = num_attributes.median()\n",
    "\n",
    "# dispersion metrics - min, max, range, std, skew, kurtosis\n",
    "min      = num_attributes.min()\n",
    "max      = num_attributes.max()\n",
    "range    = num_attributes.max() - num_attributes.min()\n",
    "std      = num_attributes.std()\n",
    "skew     = num_attributes.skew()\n",
    "kurtosis = num_attributes.kurtosis()\n",
    "\n",
    "# concat central and dispersion metrics\n",
    "aux1 = pd.concat([min, max, range, mean, median, std, skew, kurtosis], axis=1).reset_index()\n",
    "aux1.columns = ['attributes', 'min', 'max', 'range', 'mean', 'median', 'std', 'skew', 'kurtosis']\n",
    "aux1"
   ]
  },
  {
   "cell_type": "markdown",
   "id": "7f3e1e12",
   "metadata": {
    "lang": "en"
   },
   "source": [
    "**sales & customers** minimum of 0 means the days when stores are closed\n",
    "\n",
    "**competition_distance** maximum equal to 100k as we replaced the NAs by a distance much greater than the 75860 in the last step.\n",
    "\n",
    "**promo2_since_week & promo2_since_year**: minimum equal to 0 as we changed the NAs by 0 in the last step."
   ]
  },
  {
   "cell_type": "markdown",
   "id": "17ed4b44",
   "metadata": {
    "ExecuteTime": {
     "end_time": "2021-07-22T18:25:27.711324Z",
     "start_time": "2021-07-22T18:25:27.694327Z"
    },
    "id": "17ed4b44"
   },
   "source": [
    "### **Categorical Attributes**"
   ]
  },
  {
   "cell_type": "code",
   "execution_count": 25,
   "id": "fa680848",
   "metadata": {
    "ExecuteTime": {
     "end_time": "2021-09-17T18:36:06.305967Z",
     "start_time": "2021-09-17T18:36:05.613199Z"
    },
    "lang": "en"
   },
   "outputs": [
    {
     "data": {
      "text/plain": [
       "state_holiday     4\n",
       "store_type        4\n",
       "assortment        3\n",
       "promo_interval    4\n",
       "dtype: int64"
      ]
     },
     "execution_count": 25,
     "metadata": {},
     "output_type": "execute_result"
    }
   ],
   "source": [
    "# check which columns we are going to perform the analysis\n",
    "cat_attributes.apply(lambda x: x.unique().shape[0])"
   ]
  },
  {
   "cell_type": "markdown",
   "id": "cd20c201",
   "metadata": {
    "lang": "en"
   },
   "source": [
    "The analysis will be performed on the columns **state_holiday**, **store_type**, **assortment**."
   ]
  },
  {
   "cell_type": "code",
   "execution_count": 26,
   "id": "86Vu05Te-CAi",
   "metadata": {
    "ExecuteTime": {
     "end_time": "2021-09-17T18:36:11.583171Z",
     "start_time": "2021-09-17T18:36:06.755693Z"
    },
    "colab": {
     "base_uri": "https://localhost:8080/",
     "height": 337
    },
    "executionInfo": {
     "elapsed": 1311,
     "status": "ok",
     "timestamp": 1631897826101,
     "user": {
      "displayName": "Victor Leite",
      "photoUrl": "https://lh3.googleusercontent.com/a-/AOh14GjZrNAG8oiephhw0debLzorK9oI3UDtXn-CtAIGxg=s64",
      "userId": "16951619058254256460"
     },
     "user_tz": 180
    },
    "id": "86Vu05Te-CAi",
    "outputId": "7896aad4-de71-4170-f0af-a23978be51d2"
   },
   "outputs": [
    {
     "ename": "NameError",
     "evalue": "name 'plt' is not defined",
     "output_type": "error",
     "traceback": [
      "\u001b[1;31m------------------------------------------------------------------------\u001b[0m",
      "\u001b[1;31mNameError\u001b[0m                              Traceback (most recent call last)",
      "\u001b[1;32m~\\AppData\\Local\\Temp/ipykernel_11644/3526971139.py\u001b[0m in \u001b[0;36m<module>\u001b[1;34m\u001b[0m\n\u001b[0;32m      1\u001b[0m \u001b[1;31m# setting the plot size\u001b[0m\u001b[1;33m\u001b[0m\u001b[1;33m\u001b[0m\u001b[0m\n\u001b[1;32m----> 2\u001b[1;33m \u001b[0mplt\u001b[0m\u001b[1;33m.\u001b[0m\u001b[0mrcParams\u001b[0m\u001b[1;33m[\u001b[0m\u001b[1;34m'figure.figsize'\u001b[0m\u001b[1;33m]\u001b[0m \u001b[1;33m=\u001b[0m \u001b[1;33m(\u001b[0m\u001b[1;36m20\u001b[0m\u001b[1;33m,\u001b[0m \u001b[1;36m8\u001b[0m\u001b[1;33m)\u001b[0m\u001b[1;33m\u001b[0m\u001b[1;33m\u001b[0m\u001b[0m\n\u001b[0m\u001b[0;32m      3\u001b[0m \u001b[1;33m\u001b[0m\u001b[0m\n\u001b[0;32m      4\u001b[0m \u001b[0mplt\u001b[0m\u001b[1;33m.\u001b[0m\u001b[0msubplot\u001b[0m\u001b[1;33m(\u001b[0m\u001b[1;36m1\u001b[0m\u001b[1;33m,\u001b[0m \u001b[1;36m3\u001b[0m\u001b[1;33m,\u001b[0m \u001b[1;36m1\u001b[0m\u001b[1;33m)\u001b[0m\u001b[1;33m\u001b[0m\u001b[1;33m\u001b[0m\u001b[0m\n\u001b[0;32m      5\u001b[0m \u001b[1;31m# state_holiday (with dataset filtered by days with sales greater than 0 and which are holidays)\u001b[0m\u001b[1;33m\u001b[0m\u001b[1;33m\u001b[0m\u001b[0m\n",
      "\u001b[1;31mNameError\u001b[0m: name 'plt' is not defined"
     ]
    }
   ],
   "source": [
    "# setting the plot size\n",
    "plt.rcParams['figure.figsize'] = (20, 8)\n",
    "\n",
    "plt.subplot(1, 3, 1)\n",
    "# state_holiday (with dataset filtered by days with sales greater than 0 and which are holidays)\n",
    "sns.boxplot(x='state_holiday', y='sales', data=df1[(df1['sales'] > 0) & (df1['state_holiday'] != '0')]);\n",
    "\n",
    "# store_type\n",
    "plt.subplot(1, 3, 2)\n",
    "sns.boxplot(x='store_type', y='sales', data=df1, order=['a', 'b', 'c', 'd']);\n",
    "\n",
    "# assortment\n",
    "plt.subplot(1, 3, 3)\n",
    "sns.boxplot(x='assortment', y='sales', data=df1, order=['a', 'b', 'c']);"
   ]
  },
  {
   "cell_type": "markdown",
   "id": "f225c3bd",
   "metadata": {
    "lang": "en"
   },
   "source": [
    "**state_holiday:** We observed that type **b** is the one with the largest interquartile range (IQR) between state holidays, however its median does not differ much from type **c**, type **a** is the one with the lowest median and lowest IQR, but still very similar to the other types.\n",
    "\n",
    "**store_type:** Of the 4 types of stores, the only one that stands out with a median and a higher IQR is type **b**, all other types are below and with measurements very similar.\n",
    "\n",
    "**assortment:** The store with assortment type **b** has the highest median among the 3, with type **c** being very similar to **a**, but with a slightly higher median."
   ]
  },
  {
   "cell_type": "code",
   "execution_count": null,
   "id": "86939644",
   "metadata": {},
   "outputs": [],
   "source": []
  },
  {
   "cell_type": "code",
   "execution_count": null,
   "id": "e29584bf",
   "metadata": {},
   "outputs": [],
   "source": []
  },
  {
   "cell_type": "code",
   "execution_count": null,
   "id": "ddeb9c82",
   "metadata": {},
   "outputs": [],
   "source": []
  },
  {
   "cell_type": "code",
   "execution_count": null,
   "id": "ec3c976c",
   "metadata": {},
   "outputs": [],
   "source": []
  },
  {
   "cell_type": "code",
   "execution_count": null,
   "id": "cc096862",
   "metadata": {},
   "outputs": [],
   "source": []
  },
  {
   "cell_type": "code",
   "execution_count": null,
   "id": "2949978b",
   "metadata": {},
   "outputs": [],
   "source": []
  },
  {
   "cell_type": "code",
   "execution_count": null,
   "id": "068ad7a3",
   "metadata": {},
   "outputs": [],
   "source": []
  },
  {
   "cell_type": "code",
   "execution_count": null,
   "id": "f4bf0bf2",
   "metadata": {},
   "outputs": [],
   "source": []
  },
  {
   "cell_type": "code",
   "execution_count": null,
   "id": "d1f5f950",
   "metadata": {},
   "outputs": [],
   "source": []
  },
  {
   "cell_type": "code",
   "execution_count": null,
   "id": "8a3ca3e6",
   "metadata": {},
   "outputs": [],
   "source": []
  }
 ],
 "metadata": {
  "colab": {
   "collapsed_sections": [],
   "name": "store_sales_prediction_cycle02.ipynb",
   "provenance": []
  },
  "kernelspec": {
   "display_name": "Python 3 (ipykernel)",
   "language": "python",
   "name": "python3"
  },
  "language_info": {
   "codemirror_mode": {
    "name": "ipython",
    "version": 3
   },
   "file_extension": ".py",
   "mimetype": "text/x-python",
   "name": "python",
   "nbconvert_exporter": "python",
   "pygments_lexer": "ipython3",
   "version": "3.9.7"
  },
  "nbTranslate": {
   "displayLangs": [],
   "hotkey": "alt-t",
   "langInMainMenu": true,
   "sourceLang": "pt",
   "targetLang": "en",
   "useGoogleTranslate": true
  },
  "toc": {
   "base_numbering": "0",
   "nav_menu": {},
   "number_sections": true,
   "sideBar": true,
   "skip_h1_title": false,
   "title_cell": "Table of Contents",
   "title_sidebar": "Table of Contents",
   "toc_cell": false,
   "toc_position": {
    "height": "calc(100% - 180px)",
    "left": "10px",
    "top": "150px",
    "width": "281.973px"
   },
   "toc_section_display": true,
   "toc_window_display": false
  },
  "varInspector": {
   "cols": {
    "lenName": 16,
    "lenType": 16,
    "lenVar": 40
   },
   "kernels_config": {
    "python": {
     "delete_cmd_postfix": "",
     "delete_cmd_prefix": "del ",
     "library": "var_list.py",
     "varRefreshCmd": "print(var_dic_list())"
    },
    "r": {
     "delete_cmd_postfix": ") ",
     "delete_cmd_prefix": "rm(",
     "library": "var_list.r",
     "varRefreshCmd": "cat(var_dic_list()) "
    }
   },
   "types_to_exclude": [
    "module",
    "function",
    "builtin_function_or_method",
    "instance",
    "_Feature"
   ],
   "window_display": false
  }
 },
 "nbformat": 4,
 "nbformat_minor": 5
}
